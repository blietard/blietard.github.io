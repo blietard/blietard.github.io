{
 "cells": [
  {
   "cell_type": "markdown",
   "metadata": {},
   "source": [
    "# <center style='font-weight:bold;font-family:serif'> Entrainement à la programmation en Python </center>"
   ]
  },
  {
   "cell_type": "markdown",
   "metadata": {},
   "source": [
    "----\n",
    "----\n",
    "## I ) Mettre de l'ordre dans ses calculs."
   ]
  },
  {
   "cell_type": "markdown",
   "metadata": {},
   "source": [
    "###  <span style='color:red'> Procédons étape par étape. </span>"
   ]
  },
  {
   "cell_type": "markdown",
   "metadata": {},
   "source": [
    "Calculez et affichez le carré de $64$, le triple de $27$, le tiers de $81$, la différence de $1024$ et $512$, le quotient et le reste de la division euclidienne de $87$ par $6$. Stockez tous ces résultats dans une liste nommée ``calculs``."
   ]
  },
  {
   "cell_type": "code",
   "execution_count": 1,
   "metadata": {},
   "outputs": [
    {
     "name": "stdout",
     "output_type": "stream",
     "text": [
      "4096\n",
      "81\n",
      "27.0\n",
      "512\n",
      "14\n",
      "3\n"
     ]
    }
   ],
   "source": [
    "calculs = [64**2,27*3,81/3,1024-512,87//6,87%6]\n",
    "for result in calculs:\n",
    "    print(result)"
   ]
  },
  {
   "cell_type": "markdown",
   "metadata": {},
   "source": [
    "Affichez la somme cummulée de tous ces résultats (cela devrait faire $4733.0$)."
   ]
  },
  {
   "cell_type": "code",
   "execution_count": 2,
   "metadata": {},
   "outputs": [
    {
     "name": "stdout",
     "output_type": "stream",
     "text": [
      "4733.0\n"
     ]
    }
   ],
   "source": [
    "s = 0\n",
    "for res in calculs:\n",
    "    s+= res\n",
    "print(s)"
   ]
  },
  {
   "cell_type": "markdown",
   "metadata": {},
   "source": [
    "Copiez ``calculs`` dans une autre liste nommée ``calcs_copy``, et ordonnez cette nouvelle liste.\n",
    "\n",
    "<span style='font-size : 9pt'>*Hint* :  si vous ne savez pas comment copier une liste, faite ``help(list)`` et regardez les fonctions déjà implémentées sur les listes , ou bien regardez sur internet.</span>"
   ]
  },
  {
   "cell_type": "code",
   "execution_count": 3,
   "metadata": {},
   "outputs": [
    {
     "name": "stdout",
     "output_type": "stream",
     "text": [
      "[3, 14, 27.0, 81, 512, 4096]\n"
     ]
    }
   ],
   "source": [
    "calcs_copy = calculs.copy()\n",
    "calcs_copy.sort()\n",
    "print(calcs_copy)"
   ]
  },
  {
   "cell_type": "markdown",
   "metadata": {},
   "source": [
    "Vous avez ordonné `calcs_copy`, mais `calculs` ne devrait pas être changée. Vérifiez cela en affichant `calculs`. Si ce n'est pas le cas, réexécutez la première cellule de code que vous avez fait dans cet exercice (celle où vous initialisez `calculs`)."
   ]
  },
  {
   "cell_type": "code",
   "execution_count": 4,
   "metadata": {},
   "outputs": [
    {
     "name": "stdout",
     "output_type": "stream",
     "text": [
      "[4096, 81, 27.0, 512, 14, 3]\n"
     ]
    }
   ],
   "source": [
    "print(calculs)"
   ]
  },
  {
   "cell_type": "markdown",
   "metadata": {},
   "source": [
    "Inversez l'ordre de cette liste, pour avoir  désormais les résultats par ordre décroissant.\n",
    "\n",
    "<span style='font-size:9pt'> ATTENTION : Si vous relancez la cellule de code plusieurs fois, vous risquez de renverser une liste que vous avez déjà renversé, donc la remettre dans son état initial. Veillez bien à ce que votre liste soit bien par ordre décroissant avant de passer à la suite. N'hésitez pas à l'afficher.</span>\n",
    "\n",
    "<span style='font-size:9pt'> *Hint* : si vous ne savez pas comment renverser simplement une liste, regardez à nouveau dans `help(list)`.</span>"
   ]
  },
  {
   "cell_type": "code",
   "execution_count": 5,
   "metadata": {},
   "outputs": [
    {
     "name": "stdout",
     "output_type": "stream",
     "text": [
      "[4096, 512, 81, 27.0, 14, 3]\n"
     ]
    }
   ],
   "source": [
    "calcs_copy.reverse()\n",
    "print(calcs_copy)"
   ]
  },
  {
   "cell_type": "markdown",
   "metadata": {},
   "source": [
    "Dans cette liste ``calcs_copy``, remplacez chaque élément par sa conversion en chaine de caractère."
   ]
  },
  {
   "cell_type": "code",
   "execution_count": 6,
   "metadata": {},
   "outputs": [
    {
     "name": "stdout",
     "output_type": "stream",
     "text": [
      "['4096', '512', '81', '27.0', '14', '3']\n"
     ]
    }
   ],
   "source": [
    "for i in range(len(calcs_copy)):\n",
    "    calcs_copy[i] = str(calcs_copy[i])\n",
    "\n",
    "print(calcs_copy)"
   ]
  },
  {
   "cell_type": "markdown",
   "metadata": {},
   "source": [
    "En utilisant la fonction <a href='https://www.w3schools.com/python/ref_string_join.asp'>*str*.join(...)</a> (cliquez sur le lien pour la documentation), affichez tous les éléments de cette liste par ordre décroissant, séparé par des \"$>$\"."
   ]
  },
  {
   "cell_type": "code",
   "execution_count": 7,
   "metadata": {},
   "outputs": [
    {
     "name": "stdout",
     "output_type": "stream",
     "text": [
      "4096 > 512 > 81 > 27.0 > 14 > 3\n"
     ]
    }
   ],
   "source": [
    "print(' > '.join(calcs_copy))"
   ]
  },
  {
   "cell_type": "markdown",
   "metadata": {},
   "source": [
    "### <span style='color:red'>  Regroupons tout cela dans une fonction ! </span>"
   ]
  },
  {
   "cell_type": "markdown",
   "metadata": {},
   "source": [
    "**Ecrivez une fonction `ordonner` qui prend en argument une liste de nombres (les résultats de calculs, par exemple), et calculera une copie de cette liste rangée dans l'ordre décroissant.** \n",
    "\n",
    "La fonction prendra un deuxième argument, `display`, qui sera un **booléen**. Si ce booléen est à `True`, la fonction *ne renverra rien* mais **affichera** les éléments de la liste rangée, séparé par des \"$>$\". Si le booléen est à `False`, la fonction *n'affichera rien* mais devra **renvoyer** la liste rangée par ordre décroissant.\n",
    "\n",
    "Essayez avec ```[ 15.3 , 6 , 100 , 55.7 , 23 ]```."
   ]
  },
  {
   "cell_type": "code",
   "execution_count": 8,
   "metadata": {},
   "outputs": [
    {
     "data": {
      "text/plain": [
       "[100, 55.7, 23, 15.3, 6]"
      ]
     },
     "execution_count": 8,
     "metadata": {},
     "output_type": "execute_result"
    }
   ],
   "source": [
    "def ordonner(l : list, display : bool):\n",
    "    '''\n",
    "    Renvoie une copie rangée par ordre décroissant d'une liste de nombres. \n",
    "    Si display==True, ne renvoie rien mais affiche la liste avec des \">\".\n",
    "    -------------\n",
    "    Paramètres :\n",
    "    l (list) : la liste de nombres\n",
    "    display (bool) : si True, affiche la liste ordonnée au lieu de la renvoyer.\n",
    "    '''\n",
    "    l2 = l.copy()\n",
    "    l2.sort()\n",
    "    l2.reverse()\n",
    "    if display:\n",
    "        #Il faut convertir les nombres en str avant de les afficher\n",
    "        for i in range(len(l2)):\n",
    "            l2[i] = str(l2[i])\n",
    "        print(\">\".join(l2))\n",
    "    else:\n",
    "        return l2\n",
    "\n",
    "ordonner([ 15.3 , 6 , 100 , 55.7 , 23 ],False)"
   ]
  },
  {
   "cell_type": "markdown",
   "metadata": {},
   "source": [
    "-----\n",
    "-----\n",
    "## II ) Listes en chaine, chaines en liste"
   ]
  },
  {
   "cell_type": "markdown",
   "metadata": {},
   "source": [
    "### <span style='color:red'> Mon beau miroir </span>"
   ]
  },
  {
   "cell_type": "markdown",
   "metadata": {},
   "source": [
    "Affichez l'envers d'une chaine de caractère (ex: *riorim uaeb nom* au lieu de *mon beau miroir*)."
   ]
  },
  {
   "cell_type": "code",
   "execution_count": 9,
   "metadata": {},
   "outputs": [
    {
     "name": "stdout",
     "output_type": "stream",
     "text": [
      "riorim uaeb nom\n",
      "riorim uaeb nom\n",
      "riorim uaeb nom\n"
     ]
    }
   ],
   "source": [
    "chaine = \"mon beau miroir\"\n",
    "\n",
    "#solution1\n",
    "chaine_modif = ''\n",
    "for car in chaine:\n",
    "    chaine_modif = car + chaine_modif\n",
    "print(chaine_modif)\n",
    "\n",
    "#solution2\n",
    "chaine_modif = ''\n",
    "for i in range(len(chaine)-1,-1,-1):\n",
    "    chaine_modif += chaine[i]\n",
    "print(chaine_modif)\n",
    "\n",
    "#solution3\n",
    "chaine_modif = ''\n",
    "for i in range(len(chaine)):\n",
    "    chaine_modif += chaine[-i-1]\n",
    "print(chaine_modif)\n"
   ]
  },
  {
   "cell_type": "markdown",
   "metadata": {},
   "source": [
    "Même exercice, mais en utilisant, si ce n'était pas déjà le cas, la méthode ``join`` (cf. plus haut) permettant de joindre dans une `str` les éléments d'une liste.\n",
    "\n",
    "<span style='font-size:9pt'> *Hint* : appliquer l'opérateur `list()` sur une chaine de caractère renvoie la liste de caractères individuels.</span>\n",
    "\n",
    "<span style='font-size:9pt'> *Hint 2* : Comme vu précédemment, il est facile de renverser l'ordre d'une liste...</span>"
   ]
  },
  {
   "cell_type": "code",
   "execution_count": 10,
   "metadata": {},
   "outputs": [
    {
     "name": "stdout",
     "output_type": "stream",
     "text": [
      "riorim uaeb nom\n"
     ]
    }
   ],
   "source": [
    "l = list(chaine)\n",
    "l.reverse()\n",
    "print(''.join(l))"
   ]
  },
  {
   "cell_type": "markdown",
   "metadata": {},
   "source": [
    "### <span style='color:red'> Listes par compréhension </span>"
   ]
  },
  {
   "cell_type": "markdown",
   "metadata": {},
   "source": [
    "Créez une liste `carre` contenant le carré des 100 premiers nombres entiers naturels (de 0 à 99)."
   ]
  },
  {
   "cell_type": "code",
   "execution_count": 11,
   "metadata": {},
   "outputs": [
    {
     "name": "stdout",
     "output_type": "stream",
     "text": [
      "[0, 1, 4, 9, 16, 25, 36, 49, 64, 81, 100, 121, 144, 169, 196, 225, 256, 289, 324, 361, 400, 441, 484, 529, 576, 625, 676, 729, 784, 841, 900, 961, 1024, 1089, 1156, 1225, 1296, 1369, 1444, 1521, 1600, 1681, 1764, 1849, 1936, 2025, 2116, 2209, 2304, 2401, 2500, 2601, 2704, 2809, 2916, 3025, 3136, 3249, 3364, 3481, 3600, 3721, 3844, 3969, 4096, 4225, 4356, 4489, 4624, 4761, 4900, 5041, 5184, 5329, 5476, 5625, 5776, 5929, 6084, 6241, 6400, 6561, 6724, 6889, 7056, 7225, 7396, 7569, 7744, 7921, 8100, 8281, 8464, 8649, 8836, 9025, 9216, 9409, 9604, 9801]\n"
     ]
    }
   ],
   "source": [
    "carre = []\n",
    "for i in range(100):\n",
    "    carre.append(i**2)\n",
    "print(carre)"
   ]
  },
  {
   "cell_type": "markdown",
   "metadata": {},
   "source": [
    "La métode explicite pour construire une liste est ```l=[a,b,..]```, mais cela n'est réalisable que si on connait *explicitement* à l'avance la valeur des éléments de la liste et leur nombre.\n",
    "\n",
    "On peut aussi vouloir construire une liste *itérativement*, en initialisant une liste vide puis en utilisant une boucle `for` et la méthode `append` dans celle ci. C'est surement ce que vous avez fait précédemment."
   ]
  },
  {
   "cell_type": "markdown",
   "metadata": {},
   "source": [
    "Mais ça n'est pas la seule façon de faire, ni la plus optimale. En réalité, on peut intégrer une boucle `for` directement dans la création de la liste. Cela s'appelle une *liste par compréhension*. Démonstration :"
   ]
  },
  {
   "cell_type": "code",
   "execution_count": 12,
   "metadata": {},
   "outputs": [
    {
     "name": "stdout",
     "output_type": "stream",
     "text": [
      "[0, 1, 2, 3, 4, 5, 6, 7, 8, 9] ['', 'a', 'aa', 'aaa']\n",
      "[0, 1, 2, 3, 4, 5, 6, 7, 8, 9] ['', 'a', 'aa', 'aaa']\n"
     ]
    }
   ],
   "source": [
    "# Plutot que d'écrire :\n",
    "l = []\n",
    "l2 = []\n",
    "for i in range(10):\n",
    "    l.append(i)\n",
    "for i in range(4):\n",
    "    l2.append('a'*i)\n",
    "\n",
    "print(l,l2)\n",
    "\n",
    "# On peut faire, par compréhension :\n",
    "l_comprehension = [ i for i in range(10) ]\n",
    "l2_comprehension = [ 'a'*i for i in range(4) ] #C'EST BEAUCOUP PLUS RAPIDE A ECRIRE !!!!\n",
    "\n",
    "print(l_comprehension,l2_comprehension)\n",
    "\n"
   ]
  },
  {
   "cell_type": "markdown",
   "metadata": {},
   "source": [
    "En utilisant les listes par compréhension, créez une liste `carre_comp` contenant le carré des 100 premiers entiers naturels (de 0 à 99)."
   ]
  },
  {
   "cell_type": "code",
   "execution_count": 13,
   "metadata": {},
   "outputs": [
    {
     "name": "stdout",
     "output_type": "stream",
     "text": [
      "[0, 1, 4, 9, 16, 25, 36, 49, 64, 81, 100, 121, 144, 169, 196, 225, 256, 289, 324, 361, 400, 441, 484, 529, 576, 625, 676, 729, 784, 841, 900, 961, 1024, 1089, 1156, 1225, 1296, 1369, 1444, 1521, 1600, 1681, 1764, 1849, 1936, 2025, 2116, 2209, 2304, 2401, 2500, 2601, 2704, 2809, 2916, 3025, 3136, 3249, 3364, 3481, 3600, 3721, 3844, 3969, 4096, 4225, 4356, 4489, 4624, 4761, 4900, 5041, 5184, 5329, 5476, 5625, 5776, 5929, 6084, 6241, 6400, 6561, 6724, 6889, 7056, 7225, 7396, 7569, 7744, 7921, 8100, 8281, 8464, 8649, 8836, 9025, 9216, 9409, 9604, 9801]\n"
     ]
    }
   ],
   "source": [
    "carre_comp = [i**2 for i in range(100)]\n",
    "print(carre_comp)"
   ]
  },
  {
   "cell_type": "markdown",
   "metadata": {},
   "source": [
    "Ecrivez une fonction ```table_prod``` qui prend en argument deux listes et qui renvoie un tableau (une liste de listes) contenant le produit deux à deux des éléments des deux listes (i.e. `table_prod( [a,b] , [c,d] )` -> `[[ac,ad] , [bc,bd]]` ). Essayez de le faire en une seule ligne à l'intérieur de la fonction.\n",
    "\n",
    "<span style='font-size:9pt'> *Hint* : On peut imbriquer les listes par compréhension, comme on imbriquerait des boucles FOR.</span>"
   ]
  },
  {
   "cell_type": "code",
   "execution_count": 17,
   "metadata": {},
   "outputs": [
    {
     "data": {
      "text/plain": [
       "[[3, 4], [6, 8]]"
      ]
     },
     "execution_count": 17,
     "metadata": {},
     "output_type": "execute_result"
    }
   ],
   "source": [
    "def table_prod(l1 : list,l2 : list):\n",
    "    '''\n",
    "    Renvoie un tableau contenant le produit deux à deux des éléments de deux listes l1 et l2.\n",
    "    '''\n",
    "    return [[i*j for j in l2] for i in l1]\n",
    "\n",
    "table_prod([1,2],[3,4])"
   ]
  },
  {
   "cell_type": "markdown",
   "metadata": {},
   "source": [
    "Ecrire une fonction `table_sum` identique à `table_prod` sauf qu'elle calcule la somme au lieu du produit des éléments (i.e. `table_prod( [a,b] , [c,d] )` -> `[[a+c,a+d] , [b+c,b+d]]` ). "
   ]
  },
  {
   "cell_type": "code",
   "execution_count": 32,
   "metadata": {},
   "outputs": [
    {
     "data": {
      "text/plain": [
       "[[4, 5], [5, 6]]"
      ]
     },
     "execution_count": 32,
     "metadata": {},
     "output_type": "execute_result"
    }
   ],
   "source": [
    "def table_sum(l1 : list,l2 : list):\n",
    "    '''\n",
    "    Renvoie un tableau contenant la somme deux à deux des éléments de deux listes l1 et l2.\n",
    "    '''\n",
    "    return [[i+j for j in l2] for i in l1]\n",
    "\n",
    "table_sum([1,2],[3,4])"
   ]
  },
  {
   "cell_type": "markdown",
   "metadata": {},
   "source": [
    "----\n",
    "----\n",
    "## III ) Création et utilisation des dictionnaires"
   ]
  },
  {
   "cell_type": "markdown",
   "metadata": {},
   "source": [
    "### <span style='color:red'> Une base de données sur les étudiants </span>"
   ]
  },
  {
   "cell_type": "markdown",
   "metadata": {},
   "source": [
    "Voici un tableau contenant le nom, le prénom, l'âge, le numéro étudiant, la section et l'année d'inscription de quelques étudiant-e-s.\n",
    "\n",
    "| prenom | nom | age | numero | section | inscription |\n",
    "|-|-|-|-|-|-|\n",
    "| victor | hugo | 24 | 07.555.42 | L3 lettres modernes | 2018 |\n",
    "| ada | lovelace | 26 | 06.555.64 | M2 informatique | 2018 |\n",
    "| marcus | cicero | 28 | 06.555.21 | M2 lettres classiques | 2016 |\n",
    "| marie | curie | 21 | 07.555.38 | M1 physique | 2018 |\n",
    "| emilie | du chatelet | 20 | 06.555.42 | L1 physique | 2020 |\n",
    "| charles | darwin | 22 | 07.555.32 |L2 biologie | 2020 |\n",
    "\n",
    "\n",
    "\n",
    "\n",
    "L'objectif est de présenter ce tableau sous la forme d'une liste de dictionnaires, où chaque dictionnaire représente une étudiante ou un étudiant contenant ses informations. Les entêtes de colonne seront les clés. Chaque valeur sera une chaine de caractère."
   ]
  },
  {
   "cell_type": "markdown",
   "metadata": {},
   "source": [
    "Pour cela, considerez le texte suivant dans la chaine de caractère `str_base`. Elle contient le contenu de ce tableau. Affichez la."
   ]
  },
  {
   "cell_type": "code",
   "execution_count": 21,
   "metadata": {},
   "outputs": [
    {
     "name": "stdout",
     "output_type": "stream",
     "text": [
      "prenom | nom | age | numero | section | inscription\n",
      "victor | hugo | 24 | 07.555.42 | L3 lettres modernes | 2018\n",
      "ada | lovelace | 26 | 06.555.64 | M2 informatique | 2018\n",
      "marcus | cicero | 28 | 06.555.21 | M2 lettres classiques | 2016\n",
      "marie | curie | 21 | 07.555.38 | M1 physique | 2018\n",
      "emilie | du chatelet | 20 | 06.555.42 | L1 physique | 2020\n",
      "charles | darwin | 22 | 07.555.32 | L2 biologie | 2020\n"
     ]
    }
   ],
   "source": [
    "str_base = \"prenom | nom | age | numero | section | inscription\\nvictor | hugo | 24 | 07.555.42 | L3 lettres modernes | 2018\\nada | lovelace | 26 | 06.555.64 | M2 informatique | 2018\\nmarcus | cicero | 28 | 06.555.21 | M2 lettres classiques | 2016\\nmarie | curie | 21 | 07.555.38 | M1 physique | 2018\\nemilie | du chatelet | 20 | 06.555.42 | L1 physique | 2020\\ncharles | darwin | 22 | 07.555.32 | L2 biologie | 2020\"\n",
    "\n",
    "print(str_base)"
   ]
  },
  {
   "cell_type": "markdown",
   "metadata": {},
   "source": [
    "Vous pouvez observer que la chaine de caractère est découpée en ligne grace à un symbole. Lequel ?\n",
    "\n",
    "A l'aide de la fonction <a href='https://www.w3schools.com/python/ref_string_split.asp'>*str*.split(...)</a>, découpez la chaine en une liste de ses lignes et stockez cela dans `list_base`. Affichez la."
   ]
  },
  {
   "cell_type": "code",
   "execution_count": 22,
   "metadata": {},
   "outputs": [
    {
     "data": {
      "text/plain": [
       "['prenom | nom | age | numero | section | inscription',\n",
       " 'victor | hugo | 24 | 07.555.42 | L3 lettres modernes | 2018',\n",
       " 'ada | lovelace | 26 | 06.555.64 | M2 informatique | 2018',\n",
       " 'marcus | cicero | 28 | 06.555.21 | M2 lettres classiques | 2016',\n",
       " 'marie | curie | 21 | 07.555.38 | M1 physique | 2018',\n",
       " 'emilie | du chatelet | 20 | 06.555.42 | L1 physique | 2020',\n",
       " 'charles | darwin | 22 | 07.555.32 | L2 biologie | 2020']"
      ]
     },
     "execution_count": 22,
     "metadata": {},
     "output_type": "execute_result"
    }
   ],
   "source": [
    "list_base = str_base.split('\\n')\n",
    "list_base"
   ]
  },
  {
   "cell_type": "markdown",
   "metadata": {},
   "source": [
    "A l'aide de la méthode <a href='https://www.w3schools.com/python/ref_list_pop.asp'>*list*.pop(...)</a>, récuperez la *première ligne* du texte en la retirant de `list_base`, et stockez la dans une variable `str_headers` pour ne pas la perdre."
   ]
  },
  {
   "cell_type": "code",
   "execution_count": 23,
   "metadata": {},
   "outputs": [],
   "source": [
    "str_headers = list_base.pop(0)"
   ]
  },
  {
   "cell_type": "markdown",
   "metadata": {},
   "source": [
    "Encore à l'aide de la fonction `split`, découpez cette ligne pour obtenir une liste contenant les titres de chaque colone. Stockez ces entêtes dans une liste `headers`. Affichez la."
   ]
  },
  {
   "cell_type": "code",
   "execution_count": 24,
   "metadata": {},
   "outputs": [
    {
     "name": "stdout",
     "output_type": "stream",
     "text": [
      "['prenom ', ' nom ', ' age ', ' numero ', ' section ', ' inscription']\n"
     ]
    }
   ],
   "source": [
    "headers = str_headers.split('|')\n",
    "print(headers)"
   ]
  },
  {
   "cell_type": "markdown",
   "metadata": {},
   "source": [
    "Vous remarquerez que certaines entêtes contiennent encore des espaces résiduels au début ou à la fin de leur chaine de caractère. En itérant sur la liste, remplacez chacune des chaines par sa version \"propre\", sans les espaces. Pour cela, utilisez la fonction <a href='https://www.w3schools.com/python/ref_string_strip.asp'>*str*.strip()</a>. Affichez à nouveau `headers` pour vérifier que le changement est effectué."
   ]
  },
  {
   "cell_type": "code",
   "execution_count": 25,
   "metadata": {},
   "outputs": [
    {
     "name": "stdout",
     "output_type": "stream",
     "text": [
      "['prenom', 'nom', 'age', 'numero', 'section', 'inscription']\n"
     ]
    }
   ],
   "source": [
    "headers = [string.strip() for string in headers]\n",
    "print(headers)"
   ]
  },
  {
   "cell_type": "markdown",
   "metadata": {},
   "source": [
    "En vous inspirant de ce processus, créez une fonction `split_and_strip` qui prendra en argument une chaine de caractère `string` et un caractère de séparation `sep`. Cette fonction coupera votre chaine de caractère à chaque `sep` et renverra la liste de la découpe après avoir nettoyé chacun de ses éléments de ses espaces inutiles.\n",
    "\n",
    "*Ex:* \n",
    "\n",
    "```python\n",
    "split_and_strip(string=' a ,b , c',sep=',') \n",
    ">>> ['a','b','c']\n",
    "```"
   ]
  },
  {
   "cell_type": "code",
   "execution_count": 26,
   "metadata": {},
   "outputs": [
    {
     "data": {
      "text/plain": [
       "['a', 'b', 'c']"
      ]
     },
     "execution_count": 26,
     "metadata": {},
     "output_type": "execute_result"
    }
   ],
   "source": [
    "def split_and_strip(string,sep):\n",
    "    l = string.split(sep)\n",
    "    l = [s.strip() for s in l]\n",
    "    return l\n",
    "\n",
    "split_and_strip(string=' a ,b , c',sep=',')"
   ]
  },
  {
   "cell_type": "markdown",
   "metadata": {},
   "source": [
    "Affichez cote à cote chaque catégorie d'information (obtenue dans `headers`) et sa valeur pour le premier étudiant (en utilisant `split_and_strip` sur la première ligne de `list_base`). \n",
    "\n",
    "Vous devez obtenir quelque chose comme :\n",
    "```\n",
    "prenom : victor\n",
    "nom : hugo\n",
    "age : 24\n",
    "...\n",
    "```\n",
    "\n",
    "Attention, ne sortez pas cette ligne de la liste (n'utilisez pas ```pop```)!\n",
    "\n",
    "\n",
    "<span style='font-size:9pt'> *Hint* : A la *i*-ème catégorie dans `headers` est associée le *i*-ème élément dans la liste que vous obtiendrez avec `split_and_strip`... Utilisez une seule boucle pour parcourir en parallèle les 2 listes !</span>\n"
   ]
  },
  {
   "cell_type": "code",
   "execution_count": 27,
   "metadata": {},
   "outputs": [
    {
     "name": "stdout",
     "output_type": "stream",
     "text": [
      "prenom : victor\n",
      "nom : hugo\n",
      "age : 24\n",
      "numero : 07.555.42\n",
      "section : L3 lettres modernes\n",
      "inscription : 2018\n"
     ]
    }
   ],
   "source": [
    "l = split_and_strip(list_base[0],sep='|')\n",
    "for i in range(len(headers)):\n",
    "    print(headers[i],':',l[i])\n"
   ]
  },
  {
   "cell_type": "markdown",
   "metadata": {},
   "source": [
    "Même question mais, plutôt que de les afficher directement, créer ces associations dans un dictionnaire que vous afficherez ensuite. Vous obtiendrez quelque chose comme\n",
    "```\n",
    "{'prenom':'victor','nom':'hugo','age':'24',...}\n",
    "```\n",
    "\n",
    "<span style='font-size:9pt'> *Hint* : Utilisez <span style='color:rgb(50,150,255)'>dict[key]=value</span>. </span>"
   ]
  },
  {
   "cell_type": "code",
   "execution_count": 28,
   "metadata": {},
   "outputs": [
    {
     "name": "stdout",
     "output_type": "stream",
     "text": [
      "{'prenom': 'victor', 'nom': 'hugo', 'age': '24', 'numero': '07.555.42', 'section': 'L3 lettres modernes', 'inscription': '2018'}\n"
     ]
    }
   ],
   "source": [
    "l = split_and_strip(list_base[0],sep='|')\n",
    "d = dict()\n",
    "for i in range(len(headers)):\n",
    "    d[headers[i]]=l[i]\n",
    "print(d)"
   ]
  },
  {
   "cell_type": "markdown",
   "metadata": {},
   "source": [
    "En utilisant cette méthode, construisez une liste contenant un tel dictionnaire pour chaque étudiant. Stockez cette liste dans `etudiants`."
   ]
  },
  {
   "cell_type": "code",
   "execution_count": 49,
   "metadata": {},
   "outputs": [
    {
     "data": {
      "text/plain": [
       "[{'prenom': 'victor',\n",
       "  'nom': 'hugo',\n",
       "  'age': '24',\n",
       "  'numero': '07.555.42',\n",
       "  'section': 'L3 lettres modernes',\n",
       "  'inscription': '2018'},\n",
       " {'prenom': 'ada',\n",
       "  'nom': 'lovelace',\n",
       "  'age': '26',\n",
       "  'numero': '06.555.64',\n",
       "  'section': 'M2 informatique',\n",
       "  'inscription': '2018'},\n",
       " {'prenom': 'marcus',\n",
       "  'nom': 'cicero',\n",
       "  'age': '28',\n",
       "  'numero': '06.555.21',\n",
       "  'section': 'M2 lettres classiques',\n",
       "  'inscription': '2016'},\n",
       " {'prenom': 'marie',\n",
       "  'nom': 'curie',\n",
       "  'age': '21',\n",
       "  'numero': '07.555.38',\n",
       "  'section': 'M1 physique',\n",
       "  'inscription': '2018'},\n",
       " {'prenom': 'emilie',\n",
       "  'nom': 'du chatelet',\n",
       "  'age': '20',\n",
       "  'numero': '06.555.42',\n",
       "  'section': 'L1 physique',\n",
       "  'inscription': '2020'},\n",
       " {'prenom': 'charles',\n",
       "  'nom': 'darwin',\n",
       "  'age': '22',\n",
       "  'numero': '07.555.32',\n",
       "  'section': 'L2 biologie',\n",
       "  'inscription': '2020'}]"
      ]
     },
     "execution_count": 49,
     "metadata": {},
     "output_type": "execute_result"
    }
   ],
   "source": [
    "etudiants = []\n",
    "for i in range(len(list_base)):\n",
    "    l = split_and_strip(list_base[i],sep='|')\n",
    "    d = dict()\n",
    "    for j in range(len(headers)):\n",
    "        d[headers[j]]=l[j]\n",
    "    etudiants.append(d)\n",
    "\n",
    "etudiants"
   ]
  },
  {
   "cell_type": "markdown",
   "metadata": {},
   "source": [
    "### <span style='color:red'> Etudions les étudiants </span>"
   ]
  },
  {
   "cell_type": "markdown",
   "metadata": {},
   "source": [
    "Utilisez cette liste `etudiants` pour répondre aux questions suivantes. Ne calculez pas les réponses manuellement."
   ]
  },
  {
   "cell_type": "markdown",
   "metadata": {},
   "source": [
    "Combien y a t-il d'étudiant.e.s ?"
   ]
  },
  {
   "cell_type": "code",
   "execution_count": 30,
   "metadata": {},
   "outputs": [
    {
     "data": {
      "text/plain": [
       "6"
      ]
     },
     "execution_count": 30,
     "metadata": {},
     "output_type": "execute_result"
    }
   ],
   "source": [
    "len(etudiants)"
   ]
  },
  {
   "cell_type": "markdown",
   "metadata": {},
   "source": [
    "Calculez l'âge moyen des étudiant-e-s. En utilisant <a href=\"https://docs.python.org/fr/3.7/library/functions.html?highlight=round#round\">round() </a>, arrondissez à la 3e décimale."
   ]
  },
  {
   "cell_type": "code",
   "execution_count": 31,
   "metadata": {},
   "outputs": [
    {
     "data": {
      "text/plain": [
       "23.5"
      ]
     },
     "execution_count": 31,
     "metadata": {},
     "output_type": "execute_result"
    }
   ],
   "source": [
    "s = 0\n",
    "for etud in etudiants:\n",
    "    s += int(etud['age'])\n",
    "round(s/len(etudiants),3)"
   ]
  },
  {
   "cell_type": "markdown",
   "metadata": {},
   "source": [
    "Combien d'étudiant-e-s sont en licence ? "
   ]
  },
  {
   "cell_type": "code",
   "execution_count": 32,
   "metadata": {},
   "outputs": [
    {
     "data": {
      "text/plain": [
       "3"
      ]
     },
     "execution_count": 32,
     "metadata": {},
     "output_type": "execute_result"
    }
   ],
   "source": [
    "n = 0\n",
    "for etud in etudiants:\n",
    "    if etud['section'][0]=='L':\n",
    "        n+=1\n",
    "n"
   ]
  },
  {
   "cell_type": "markdown",
   "metadata": {},
   "source": [
    "En utilisant l'opérateur booléen `in` sur les séquences (chaines de caractère ou listes), comptez le nombre d'étudiant-e-s en physique.\n",
    "\n",
    "<span style='font-size:9pt'>*Hint*: Vous pouvez vérifiez la documentation des <a href=\"https://www.w3schools.com/python/python_operators.asp\">operateurs python</a>, dans la section \"membership operators\".</span>"
   ]
  },
  {
   "cell_type": "code",
   "execution_count": 33,
   "metadata": {},
   "outputs": [
    {
     "data": {
      "text/plain": [
       "2"
      ]
     },
     "execution_count": 33,
     "metadata": {},
     "output_type": "execute_result"
    }
   ],
   "source": [
    "n = 0\n",
    "for etud in etudiants:\n",
    "    if 'physique' in etud['section']:\n",
    "        n+=1\n",
    "n"
   ]
  },
  {
   "cell_type": "markdown",
   "metadata": {},
   "source": [
    "Quel pourcentage des d'étudiant-e-s se sont inscrit-e-s avant 2019 ?"
   ]
  },
  {
   "cell_type": "code",
   "execution_count": 38,
   "metadata": {},
   "outputs": [
    {
     "name": "stdout",
     "output_type": "stream",
     "text": [
      "66.67%\n"
     ]
    }
   ],
   "source": [
    "n = 0\n",
    "for etud in etudiants:\n",
    "    if 2019>int(etud['inscription']):\n",
    "        n+=1\n",
    "print(f\"{round(n/len(etudiants)*100,2)}%\")"
   ]
  },
  {
   "cell_type": "markdown",
   "metadata": {},
   "source": [
    "Sachant que nous sommes en 2022, affichez le prénom et le nom de l'étudiant-e qui s'est inscrit-e avant ses 18ans ?"
   ]
  },
  {
   "cell_type": "code",
   "execution_count": 34,
   "metadata": {},
   "outputs": [
    {
     "name": "stdout",
     "output_type": "stream",
     "text": [
      "marie curie\n"
     ]
    }
   ],
   "source": [
    "minor = None\n",
    "for etud in etudiants:\n",
    "    if int(etud['age'])-2022+int(etud['inscription'])<18:\n",
    "        minor = etud\n",
    "print(minor['prenom'],minor['nom'])"
   ]
  },
  {
   "cell_type": "markdown",
   "metadata": {},
   "source": [
    "Parmi les étudiant-e-s inscrit-e-s en 2018, quel pourcentage a un numéro commençant par 07 ?"
   ]
  },
  {
   "cell_type": "code",
   "execution_count": 39,
   "metadata": {},
   "outputs": [
    {
     "name": "stdout",
     "output_type": "stream",
     "text": [
      "66.67%\n"
     ]
    }
   ],
   "source": [
    "n_2018 = 0\n",
    "n_2018_07 = 0\n",
    "for etud in etudiants:\n",
    "    if int(etud['inscription'])==2018:\n",
    "        n_2018+=1\n",
    "        if etud['numero'][:2]=='07':\n",
    "            n_2018_07+=1\n",
    "print(f\"{round(n_2018_07/n_2018*100,2)}%\")"
   ]
  },
  {
   "cell_type": "markdown",
   "metadata": {},
   "source": [
    "<a id='another_cell'></a>\n",
    "**[Plus difficile]** Faisons un bond dans le temps. C'est une nouvelle année qui commence, et les données doivent être mise à jour.\n",
    "Copiez la liste `etudiants` dans une liste `new_etudiants`. modifiez les dictionnaires dans cette liste de sorte que:\n",
    "- chaque étudiant-e prenne 1 an d'âge.\n",
    "- Les étudiant-e-s en L1 passent en L2, celleux en L2 en L3, L3 en M1, M1 en M2, M2 en PhD... sauf Charles Darwin, qui redouble sa L2.\n",
    "- Marcus Cicero ne fera pas de PhD, retirez le de la liste `etudiants`.\n",
    "\n",
    "Affichez la liste `new_etudiants`."
   ]
  },
  {
   "cell_type": "code",
   "execution_count": 50,
   "metadata": {},
   "outputs": [
    {
     "name": "stdout",
     "output_type": "stream",
     "text": [
      "[{'prenom': 'victor', 'nom': 'hugo', 'age': '25', 'numero': '07.555.42', 'section': 'M1 lettres modernes', 'inscription': '2018'}, {'prenom': 'ada', 'nom': 'lovelace', 'age': '27', 'numero': '06.555.64', 'section': 'PhD informatique', 'inscription': '2018'}, {'prenom': 'marcus', 'nom': 'cicero', 'age': '29', 'numero': '06.555.21', 'section': 'PhD lettres classiques', 'inscription': '2016'}, {'prenom': 'marie', 'nom': 'curie', 'age': '22', 'numero': '07.555.38', 'section': 'M2 physique', 'inscription': '2018'}, {'prenom': 'emilie', 'nom': 'du chatelet', 'age': '21', 'numero': '06.555.42', 'section': 'L2 physique', 'inscription': '2020'}]\n"
     ]
    }
   ],
   "source": [
    "new_etudiants = [etud.copy() for etud in etudiants]\n",
    "\n",
    "#age +1 et section +1\n",
    "for etud in new_etudiants:\n",
    "    #age +1\n",
    "    etud['age'] = str(int(etud['age'])+1)\n",
    "\n",
    "    #section +1 sauf Darwin\n",
    "    if not(etud['prenom']=='charles' and etud['nom']=='darwin'):\n",
    "        #Ce n'est pas Darwin\n",
    "        section = etud['section']\n",
    "        niveau = section[:2] #on sépare les 2 premiers caracteres du reste.\n",
    "        rest = section[2:]\n",
    "        if niveau=='M2':\n",
    "            #première exception : le M2 devient PhD\n",
    "            niveau = 'PhD'\n",
    "        elif niveau=='L3':\n",
    "            #deuxieme exception : L3 devient M1\n",
    "            niveau = 'M1'\n",
    "        else:\n",
    "            #dans les autres cas, on augmente seulement le chiffre de 1. La lettre reste la meme.\n",
    "            niveau = niveau[0] + str(int(niveau[1])+1)\n",
    "        \n",
    "        #On actualise\n",
    "        etud['section']=niveau+rest\n",
    "\n",
    "#retirer Cicero de la liste\n",
    "\n",
    "index_a_retirer = 0\n",
    "for i in range(len(new_etudiants)):\n",
    "    if new_etudiants[i]['nom']=='cicero' and new_etudiants[i]['prenom']=='marcus':\n",
    "        index_a_retirer = i\n",
    "        #On ne le retire pas tout de suite !\n",
    "        #Sinon la fin de la boucle FOR renverra une erreur car\n",
    "        #la taille de la liste aura diminué, \n",
    "        #mais notre iterateur ira jusqu'a l'ancienne taille !\n",
    "\n",
    "new_etudiants.pop(i)\n",
    "\n",
    "print(new_etudiants)\n",
    "\n"
   ]
  },
  {
   "cell_type": "markdown",
   "metadata": {},
   "source": [
    "**[Plus difficile]** Vérifions que vous avez copié correctement `etudiants` et que vous ne l'avez pas modifié directement. Affichez la. Charles Darwin devrait toujours être dedans, et **Victor Hugo devrait avoir 24 ans**. Si ça n'est pas le cas, alors vous n'avez pas fait les choses correctement au début de la cellule précédente, et vous devrez relancer la cellule de code à la fin de la section [Une base de données sur les étudiants](#span-stylecolorred-une-base-de-donn%C3%A9es-sur-les-%C3%A9tudiants-span).\n",
    "\n",
    "<span style='font-size:9pt'>*Hint* : Si Darwin est toujours dedans mais que Victor Hugo a 25ans au lieu de 24, c'est probablement que vous avez fait `new_etudiants=etudiants.copy()`. Rappelez vous que les listes sont mutables, mais les dictionnaires aussi ! `etudiants` ne contient pas directement les dictionnaires, mais des *pointeurs* vers ces dictionnaires dans la mémoire. En copiant simplement `etudiants` comme cela, vous ne copiez pas les dictionnaires, vous ne copiez que les pointeurs ! Au lieu de créer une *copie de la liste* des dictionnaires, il faudrait créer une *liste des copies* des dictionnaires.\n",
    "</span>"
   ]
  },
  {
   "cell_type": "code",
   "execution_count": 51,
   "metadata": {},
   "outputs": [
    {
     "name": "stdout",
     "output_type": "stream",
     "text": [
      "[{'prenom': 'victor', 'nom': 'hugo', 'age': '24', 'numero': '07.555.42', 'section': 'L3 lettres modernes', 'inscription': '2018'}, {'prenom': 'ada', 'nom': 'lovelace', 'age': '26', 'numero': '06.555.64', 'section': 'M2 informatique', 'inscription': '2018'}, {'prenom': 'marcus', 'nom': 'cicero', 'age': '28', 'numero': '06.555.21', 'section': 'M2 lettres classiques', 'inscription': '2016'}, {'prenom': 'marie', 'nom': 'curie', 'age': '21', 'numero': '07.555.38', 'section': 'M1 physique', 'inscription': '2018'}, {'prenom': 'emilie', 'nom': 'du chatelet', 'age': '20', 'numero': '06.555.42', 'section': 'L1 physique', 'inscription': '2020'}, {'prenom': 'charles', 'nom': 'darwin', 'age': '22', 'numero': '07.555.32', 'section': 'L2 biologie', 'inscription': '2020'}]\n"
     ]
    }
   ],
   "source": [
    "print(etudiants)"
   ]
  },
  {
   "cell_type": "markdown",
   "metadata": {},
   "source": [
    "----\n",
    "----\n",
    "## Conclusion\n",
    "\n",
    "Voilà qui conclut ce notebook d'entrainement sur les bases du python ! Si vous avez utilisé les *hints* et astuces, n'hésitez pas à le recommencer depuis le début sans vous servir des *hints* cette fois-ci. Ensuite, recommencez en vous chronometrant une première fois en le faisant à un rythme normal. Puis refaite ce notebook en essayant de battre votre temps précédent.\n",
    "\n",
    "Si vous n'avez pas bien compris certaines notions, comme les listes par compréhensions par exemple, entrainez vous et regardez sur internet si cela peut vous aider. En refaisant ce notebook, essayer de créer vos listes en utilisant des compréhensions au lieu de boucle FOR lorsque c'est possible."
   ]
  }
 ],
 "metadata": {
  "interpreter": {
   "hash": "cb50ce4d8d0c27330b8d7fd39176df7b1ba7466120343e77afb4590082812862"
  },
  "kernelspec": {
   "display_name": "Python 3.7.7 64-bit ('work': conda)",
   "language": "python",
   "name": "python3"
  },
  "language_info": {
   "codemirror_mode": {
    "name": "ipython",
    "version": 3
   },
   "file_extension": ".py",
   "mimetype": "text/x-python",
   "name": "python",
   "nbconvert_exporter": "python",
   "pygments_lexer": "ipython3",
   "version": "3.7.7"
  },
  "orig_nbformat": 4
 },
 "nbformat": 4,
 "nbformat_minor": 2
}
