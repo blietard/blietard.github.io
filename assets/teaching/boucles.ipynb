{
 "cells": [
  {
   "cell_type": "markdown",
   "metadata": {},
   "source": [
    "# BOUCLES ET IMBRICATIONS"
   ]
  },
  {
   "cell_type": "markdown",
   "metadata": {},
   "source": [
    "Voici un notebook d'exercices guidés pour comprendre les boucles et apprendre à raisonner avec et à les manipuler."
   ]
  },
  {
   "cell_type": "markdown",
   "metadata": {},
   "source": [
    "## Idée générale des boucles"
   ]
  },
  {
   "cell_type": "markdown",
   "metadata": {},
   "source": [
    "Dès lors qu'un problème nécessite de répéter un certain nombre de fois une ou plusieurs étapes, il apparait alors indispensable de pouvoir définir un processus de répétition dans un algorithme."
   ]
  },
  {
   "cell_type": "markdown",
   "metadata": {},
   "source": [
    "Les boucles ont des usages variés et sont des structures indispensables : par exemple, le parcours d'une liste, de chaine de caractère, de dictionnaires, d'ensembles, etc. ; la comparaison de plusieurs valeurs dans une liste ; la répétition de la même étape à l'identique *n* fois ; la répétition de la même étape jusqu'à ce qu'une certaine condition se réalise ; etc."
   ]
  },
  {
   "cell_type": "markdown",
   "metadata": {},
   "source": [
    "Dès qu'une de ces problématiques se présentent, c'est sans aucun doute la structure d'une boucle qui est présente."
   ]
  },
  {
   "cell_type": "markdown",
   "metadata": {},
   "source": [
    "Dès que vous voyez une structure qui se répète dans votre problème :\n",
    "**PENSEZ BOUCLE !!!**"
   ]
  },
  {
   "cell_type": "markdown",
   "metadata": {},
   "source": [
    "## Boucles POUR (for)"
   ]
  },
  {
   "cell_type": "markdown",
   "metadata": {},
   "source": [
    "La structure de boucle la plus connue est la boucle POUR. La boucle POUR (FOR en anglais et dans la plupart des langages de programmation) est composée principalement autour d'un **itérateur** dont la valeur va changer à chaque **itération**, c'est à dire à chaque \"tour de boucle\". Voici plusieurs exemples en python."
   ]
  },
  {
   "cell_type": "code",
   "execution_count": 4,
   "metadata": {},
   "outputs": [
    {
     "name": "stdout",
     "output_type": "stream",
     "text": [
      "ici, l'iterateur vaut 0\n",
      "ici, l'iterateur vaut 1\n",
      "ici, l'iterateur vaut 2\n",
      "ici, l'iterateur vaut 3\n",
      "ici, l'iterateur vaut 4\n",
      "ici, l'iterateur vaut 5\n",
      "ici, l'iterateur vaut 6\n",
      "ici, l'iterateur vaut 7\n",
      "ici, l'iterateur vaut 8\n",
      "ici, l'iterateur vaut 9\n"
     ]
    }
   ],
   "source": [
    "#L'iterateur evolue ici dans un range(10), c'est a dire qu'il prend \n",
    "#ses valeurs dans l'ensemble des entiers de 0 (inclus) a 10 (exclus).\n",
    "for iterateur in range(10):\n",
    "    print(\"ici, l'itérateur vaut \" + str(iterateur))"
   ]
  },
  {
   "cell_type": "code",
   "execution_count": 9,
   "metadata": {},
   "outputs": [
    {
     "name": "stdout",
     "output_type": "stream",
     "text": [
      "ici, l'iterateur vaut 1\n",
      "ici, l'iterateur vaut 2.0\n",
      "ici, l'iterateur vaut False\n",
      "ici, l'iterateur vaut 4\n",
      "ici, l'iterateur vaut texte\n",
      "ici, l'iterateur vaut je suis la valeur de a\n",
      "ici, l'iterateur vaut 6.1\n"
     ]
    }
   ],
   "source": [
    "#L'iterateur evolue ici dans une liste d'elements. \n",
    "\n",
    "a = \"je suis la valeur de a\"\n",
    "\n",
    "liste = [1,2.0,False,4,\"texte\",a,6.1]\n",
    "\n",
    "for iterateur in liste:\n",
    "    print(\"ici, l'itérateur vaut \" + str(iterateur))"
   ]
  },
  {
   "cell_type": "code",
   "execution_count": 16,
   "metadata": {},
   "outputs": [
    {
     "name": "stdout",
     "output_type": "stream",
     "text": [
      "ici, l'itérateur vaut \"nom\" et la valeur à cette clef est : Jules\n",
      "ici, l'itérateur vaut \"prenom\" et la valeur à cette clef est : Martin\n",
      "ici, l'itérateur vaut \"age\" et la valeur à cette clef est : 21\n",
      "ici, l'itérateur vaut \"Erasmus ?\" et la valeur à cette clef est : False\n"
     ]
    }
   ],
   "source": [
    "#L'iterateur peut evoluer dans un dictionnaire aussi\n",
    "\n",
    "etudiant1 = { \"nom\" : \"Jules\", \"prenom\" : \"Martin\", \"age\" : 21, \"Erasmus ?\" : False}\n",
    "\n",
    "for clef in etudiant1 :\n",
    "    print(\"ici, l'itérateur vaut \\\"\" + str(clef) + \"\\\" et la valeur à cette clef est : \" + str(etudiant1[clef]))"
   ]
  },
  {
   "cell_type": "markdown",
   "metadata": {},
   "source": [
    "Comme vous pouvez le voir dans les exemples ci-dessus, la boucle FOR est définie ainsi en Python :"
   ]
  },
  {
   "cell_type": "raw",
   "metadata": {},
   "source": [
    "for i in seq :\n",
    "   #corps de la boucle"
   ]
  },
  {
   "cell_type": "markdown",
   "metadata": {},
   "source": [
    "* *for* est le mot-clé pour démarrer la boucle\n",
    "* *i* est l'itérateur, c'est à dire la variable dont la valeur va évoluer a chaque tour de boucle\n",
    "* *in* est le mot-clé pour désigner comment se comporte *i*, c'est-à-dire qu'il prend ses valeurs DANS *seq*.\n",
    "* *seq* est la séquence dans lequel *i* va évoluer, c'est-à-dire l'ensemble des valeurs qu'il va prendre.\n",
    "* *le corps de la boucle* est l'étape qui est à répéter à chaque itération."
   ]
  },
  {
   "cell_type": "markdown",
   "metadata": {},
   "source": [
    "La séquence peut être n'importe quoi dans lequel l'itérateur peut prendre successivement plusieurs valeurs. Si c'est une chaine de caractères, l'itérateur prendra successivement la valeur de *chaque caractère* dans l'ordre d'apparition. Si c'est une liste, un tuple ou un ensemble, l'itérateur prendra  les valeurs des *éléments contenus* dans la liste/du tuple/de l'ensemble. Si c'est un dictionnaire, il prendra les valeurs des *clés* qui composent le dictionnaire. Si c'est un *range*, il prendra des *valeurs numériques* comprises dans le range."
   ]
  },
  {
   "cell_type": "markdown",
   "metadata": {},
   "source": [
    "Important : le corps de la boucle ne peut pas être vide. Si vous voulez que votre boucle n'effectue pas d'action spécifique, utilisez **pass**.\n",
    "Autre chose : si pour une raison ou une autre vous désirez terminer la boucle et en sortir, vous pouvez utiliser l'instruction **break**."
   ]
  },
  {
   "cell_type": "markdown",
   "metadata": {},
   "source": [
    "Voyons maintenant plusieurs exemples d'utilisations"
   ]
  },
  {
   "cell_type": "code",
   "execution_count": 1,
   "metadata": {},
   "outputs": [
    {
     "name": "stdout",
     "output_type": "stream",
     "text": [
      "[2, 14, 10, 18, 8, 12, 2, 0, -8, 178, 18, 24, 108]\n"
     ]
    }
   ],
   "source": [
    "#Multiplions par 2 tous les éléments d'une liste d'entiers et mettons les dans une nouvelle liste.\n",
    "liste_depart = [1,7,5,9,4,6,1,0,-4,89,9,12,54]\n",
    "\n",
    "liste_arrivee = []\n",
    "for nombre in liste_depart:\n",
    "    double = nombre*2\n",
    "    liste_arrivee.append(double)\n",
    "    \n",
    "print(liste_arrivee)"
   ]
  },
  {
   "cell_type": "code",
   "execution_count": 1,
   "metadata": {},
   "outputs": [
    {
     "name": "stdout",
     "output_type": "stream",
     "text": [
      "nom : Lovelace & Turing\n",
      "prenom : Ada & Alan\n",
      "age : 19 & 21\n"
     ]
    }
   ],
   "source": [
    "#Affichons 2 à deux les valeurs des clés des deux dictionnaires\n",
    "etudiant1 = {'nom':'Lovelace','prenom':'Ada','age':19}\n",
    "etudiant2 = {'nom':'Turing','prenom':'Alan','age':21}\n",
    "\n",
    "\n",
    "for clef in etudiant1 :\n",
    "#comme les 2 dictionnaires ont les mêmes clés, on peut utiliser la même clé pour les 2 dictionnaires\n",
    "#on peut donc itérer indépendamment sur l'un ou l'autre des dictionnaires\n",
    "    valeur1 = etudiant1[clef]\n",
    "    valeur2 = etudiant2[clef]\n",
    "    print(clef + ' : ' + str(valeur1) + ' & ' + str(valeur2))"
   ]
  },
  {
   "cell_type": "code",
   "execution_count": 7,
   "metadata": {},
   "outputs": [
    {
     "name": "stdout",
     "output_type": "stream",
     "text": [
      "[0, 3, 6, 9, 12, 15, 18]\n"
     ]
    }
   ],
   "source": [
    "#Retrouvons tous les multiples de 3 entre 0 et n (fixé) et mettons les dans une liste\n",
    "n=20\n",
    "\n",
    "liste = []\n",
    "for nombre in range(n):\n",
    "    #un nombre est multiple de 3 si le reste (%) de sa division euclidienne par 3 est nul\n",
    "    if nombre%3 == 0 :\n",
    "        liste.append(nombre)\n",
    "\n",
    "print(liste)"
   ]
  },
  {
   "cell_type": "code",
   "execution_count": 9,
   "metadata": {},
   "outputs": [
    {
     "name": "stdout",
     "output_type": "stream",
     "text": [
      "eh ! mes emis, vous voile errivés\n"
     ]
    }
   ],
   "source": [
    "#Changeons tous les A d'une chaine de caractères par des E\n",
    "chaine = 'ah ! mes amis, vous voila arrivés'\n",
    "\n",
    "chaine_modifiee = ''\n",
    "for caractere in chaine:\n",
    "    if caractere == 'a':\n",
    "        chaine_modifiee += 'e'\n",
    "    else:\n",
    "        chaine_modifiee += caractere\n",
    "\n",
    "print(chaine_modifiee)"
   ]
  },
  {
   "cell_type": "markdown",
   "metadata": {},
   "source": [
    "### Exercices sur les boucles for"
   ]
  },
  {
   "cell_type": "markdown",
   "metadata": {},
   "source": [
    "Les exercices marqués d'un `/!\\` sont plus difficiles"
   ]
  },
  {
   "cell_type": "markdown",
   "metadata": {},
   "source": [
    "Écrire un script python qui affiche $\\sum_{i=0}^n i^2\\,$, pour $n$ fixé."
   ]
  },
  {
   "cell_type": "code",
   "execution_count": null,
   "metadata": {},
   "outputs": [],
   "source": [
    "n = 9\n",
    "\n"
   ]
  },
  {
   "cell_type": "markdown",
   "metadata": {},
   "source": [
    "Écrire un script python qui affiche un triangle composé de symbole A d'une hauteur spécifiée. Chaque ligne doit commencer par le nombre de symbole à afficher sur la ligne. Par exemple, pour une hauteur de 4, il doit afficher :\n",
    "\n",
    "1A<br/>\n",
    "2AA <br/>\n",
    "3AAA <br/>\n",
    "4AAAA <br/>\n",
    "\n",
    "*Astuce : un range() peut être défini par range(borne_superieure), mais il peut aussi être défini comme range(borne_inf,borne_sup). Par exemple, range(10,15) contient les entiers de 10 (inclus) à 15 (exclus).*"
   ]
  },
  {
   "cell_type": "code",
   "execution_count": 2,
   "metadata": {},
   "outputs": [],
   "source": [
    "hauteur = 4\n",
    "\n"
   ]
  },
  {
   "cell_type": "markdown",
   "metadata": {},
   "source": [
    "Écrire un script python qui affiche le même triangle mais renversé et composé de V. Par exemple, pour une hauteur de 6, il doit afficher :\n",
    "\n",
    "6VVVVVV <br/>\n",
    "5VVVVV <br/>\n",
    "4VVVV <br/>\n",
    "3VVV <br/>\n",
    "2VV <br/>\n",
    "1V<br/>\n",
    "\n",
    "*Astuce : un range, s'il contient un 3ème argument, peut avoir un pas spécifique, c'est à dire un écart spécifique entre ses valeurs. Par exemple, range(0,10,2) ne contient que les nombres pairs (séparés de 2 d'écart) entre 0 (inclus) et 10 (exclus).*"
   ]
  },
  {
   "cell_type": "code",
   "execution_count": null,
   "metadata": {},
   "outputs": [],
   "source": [
    "hauteur2 = 6\n",
    "\n"
   ]
  },
  {
   "cell_type": "markdown",
   "metadata": {},
   "source": [
    "Écrire une fonction `sommeDiv` qui prend en argument un entier $n$ et retourne la somme de ses diviseurs stricts (c'est-à-dire tous les nombres $d$ entre $1$ et $n$ **exclus** tels que $n$ est divisible par $d$)."
   ]
  },
  {
   "cell_type": "code",
   "execution_count": null,
   "metadata": {},
   "outputs": [],
   "source": [
    "def sommeDiv(n):\n",
    "    '''\n",
    "    Calcule la somme des diviseurs stricts d'un nombre.\n",
    "    \n",
    "    >>> sommeDiv(6)\n",
    "    6\n",
    "    >>> sommeDiv(5)\n",
    "    1\n",
    "    >>> sommeDiv(4)\n",
    "    3\n",
    "    '''\n",
    "    \n",
    "    return"
   ]
  },
  {
   "cell_type": "markdown",
   "metadata": {},
   "source": [
    "On dit qu'un nombre est parfait s'il est égal à la somme de ses diviseurs stricts. Ainsi, $6 = 1 + 2 + 3$ est un nombre parfait. En utilisant la fonction `sommeDiv`, écrire un script python qui retourne la liste des nombres parfaits inférieurs ou égaux à $n$."
   ]
  },
  {
   "cell_type": "code",
   "execution_count": null,
   "metadata": {},
   "outputs": [],
   "source": [
    "n = 20"
   ]
  },
  {
   "cell_type": "markdown",
   "metadata": {},
   "source": [
    "Deux nombres $a$ et $b$ sont dit amicaux si chacun est égal à la somme des diviseurs stricts de l'autre et réciproquement. En utilisant la fonction `sommeDiv`, écrire une fonction `amicaux` qui prend en argument deux nombres $a$ et $b$ et retourne `True` s'ils sont amicaux et `False` sinon."
   ]
  },
  {
   "cell_type": "code",
   "execution_count": null,
   "metadata": {},
   "outputs": [],
   "source": []
  },
  {
   "cell_type": "markdown",
   "metadata": {},
   "source": [
    "`/!\\` (Le chiffre de César) Le code (ou chiffre) de César est un procédé très élémentaire de cryptographie qui consiste à décaler de façon cyclique d'un certain nombre de crans chaque lettre de l'alphabet dans un texte. Ainsi, si on applique un décalage d'ordre 2 à la chaîne de caractères \"azerty\", on obtient \"cbguva\".\n",
    "Écrire un script python qui affiche la chaîne $C$ décalée de $n$ crans."
   ]
  },
  {
   "cell_type": "code",
   "execution_count": null,
   "metadata": {},
   "outputs": [],
   "source": [
    "C = ''\n",
    "n = 13"
   ]
  },
  {
   "cell_type": "markdown",
   "metadata": {},
   "source": [
    "`/!\\` Écrire une fonction `compteCar` qui prend en argument une chaine de caractères **chaine** et renvoie un dictionnaire faisant l'inventaire de chaque caractère présent ainsi que son nombre d'apparitions. "
   ]
  },
  {
   "cell_type": "code",
   "execution_count": null,
   "metadata": {},
   "outputs": [],
   "source": [
    "def compteCar(chaine):\n",
    "    '''\n",
    "    Compte le nombre d'apparitions des caractères d'une chaine.\n",
    "    \n",
    "    >>> compteCar('hello !!!')\n",
    "    {'e':1,'h':1,'l':2,'o':1,' ':1,'!':3}\n",
    "    '''\n",
    "    \n",
    "    return"
   ]
  },
  {
   "cell_type": "markdown",
   "metadata": {},
   "source": [
    "# Boucles TANT QUE (while)"
   ]
  },
  {
   "cell_type": "markdown",
   "metadata": {},
   "source": [
    "Les boucles TANT QUE, ou WHILE en anglais, permettent de répéter des étapes sans connaitre précisemment le nombre d'itérations à effectuer avant de s'arrêter. \n",
    "\n",
    "La boucle TANT QUE continuera d'effectuer des itérations tant que sa **condition de fonctionnement** sera remplie (True). Sa syntaxe est simple :"
   ]
  },
  {
   "cell_type": "raw",
   "metadata": {},
   "source": [
    "while condition :\n",
    "    #corps de la boucle"
   ]
  },
  {
   "cell_type": "markdown",
   "metadata": {},
   "source": [
    "Et voici quelques exemples d'utilisations :"
   ]
  },
  {
   "cell_type": "code",
   "execution_count": 3,
   "metadata": {},
   "outputs": [
    {
     "name": "stdout",
     "output_type": "stream",
     "text": [
      "5\n"
     ]
    }
   ],
   "source": [
    "#compter combien de fois je peux soustraire un nombre b à un nombre a en restant positif\n",
    "a = 100\n",
    "b = 24\n",
    "\n",
    "compteur = 0\n",
    "s = a\n",
    "while s>0:\n",
    "    s = s-b\n",
    "    compteur += 1\n",
    "\n",
    "print(compteur-1)"
   ]
  },
  {
   "cell_type": "code",
   "execution_count": 11,
   "metadata": {},
   "outputs": [
    {
     "name": "stdout",
     "output_type": "stream",
     "text": [
      "position 3  et valeur 4\n"
     ]
    }
   ],
   "source": [
    "#trouver l'index du premier nombre pair d'une liste\n",
    "liste = [1,3,7,4,9,2,7,3]\n",
    "\n",
    "i = 0\n",
    "while liste[i]%2 != 0:\n",
    "    i += 1 #on incrémente pour préparer la prochaine itération\n",
    "print('position',i,' et valeur',liste[i])\n",
    "\n",
    "#Ici, le while nous évite de continuer pour 9,2,7 et 3.\n",
    "#ça ne sert à rien puisque seul le premier nombre pair est intéressant."
   ]
  },
  {
   "cell_type": "code",
   "execution_count": 15,
   "metadata": {},
   "outputs": [
    {
     "name": "stdout",
     "output_type": "stream",
     "text": [
      "[0, 1, 2, 3, 4, 5, 6, 7] []\n",
      "[] [7, 6, 5, 4, 3, 2, 1, 0]\n"
     ]
    }
   ],
   "source": [
    "#vider une liste de ses éléments pour la mettre dans une autre liste, en renversant l'ordre.\n",
    "list1 = [0,1,2,3,4,5,6,7]\n",
    "list2 = []\n",
    "print(list1,list2)\n",
    "\n",
    "taille1 = len(list1)\n",
    "while taille1 > 0:\n",
    "    list2.append(list1.pop(taille1-1)) #maliste.pop(i) sert à extraire l'element de la liste maliste à la position i, en le retirant de la liste.\n",
    "    taille1 = len(list1)\n",
    "    \n",
    "print(list1,list2)"
   ]
  },
  {
   "cell_type": "markdown",
   "metadata": {},
   "source": [
    "### REMARQUES"
   ]
  },
  {
   "cell_type": "markdown",
   "metadata": {},
   "source": [
    "Vous noterez qu'à chaque fois, avant la boucle, on commence par initialiser une variable. En effet, contrairement à une boucle FOR où la déclaration de l'itérateur suffit, ici puisque la boucle n'effectue pas une *affectation de valeur* mais bien un **test**, alors il faut que la variable qui sert au test **existe déjà**."
   ]
  },
  {
   "cell_type": "markdown",
   "metadata": {},
   "source": [
    "En réalité, à chaque itération, la condition est évaluée sous la forme d'un booléen, et si le résultat est *True* alors le corps de la boucle est éxecuté, sinon on s'arrête.\n",
    "\n",
    "IL FAUT FAIRE ATTENTION à ce que la boucle puisse s'arrêter à un moment. Si la boucle tourne à l'infini (i.e. si sa *condition* est TOUJOURS vraie et ne devient jamais fausse) alors le script plantera."
   ]
  },
  {
   "cell_type": "markdown",
   "metadata": {},
   "source": [
    " \n",
    "\n",
    "**EXEMPLE** : Si on reprend l'exemple de la recherche du premier nombre pair, on pourrait avoir un soucis. En effet, si la liste ne contient pas de nombre pair, la boucle pourrait continuer HORS de la liste (puisqu'elle n'aurait pas de raison de s'arrêter) ce qui ferait une `indexError`.\n",
    "\n",
    "Pour éviter cela, on peut utiliser **break** dès lors qu'on atteint la fin de la liste et ensuite tester pour savoir si on peut afficher un index et une valeur ou s'il n'y en a pas:"
   ]
  },
  {
   "cell_type": "code",
   "execution_count": 20,
   "metadata": {},
   "outputs": [
    {
     "name": "stdout",
     "output_type": "stream",
     "text": [
      "pas de nombre pair dans la liste\n"
     ]
    }
   ],
   "source": [
    "liste = [1,3,7,5,9,21,7,3]\n",
    "\n",
    "i = 0\n",
    "while liste[i]%2 != 0:\n",
    "    i += 1\n",
    "    if i>=len(liste): #la prochaine iteration sera hors de la liste\n",
    "        break\n",
    "\n",
    "try :\n",
    "    print('position',i,' et valeur',liste[i]) #si i est trop grand, renverra une erreur d'index\n",
    "except IndexError :\n",
    "    print('pas de nombre pair dans la liste')"
   ]
  },
  {
   "cell_type": "markdown",
   "metadata": {},
   "source": [
    "### Exercice sur les boucles WHILE"
   ]
  },
  {
   "cell_type": "markdown",
   "metadata": {},
   "source": [
    "Écrire un script python qui affiche un chaine de caractère tronquée après son premier e. Par exemple, pour `chaine = 'avantetapres'` on afficherait 'avant'. Evidemment votre programmme doit fonctionner quelque soit la chaine initiale."
   ]
  },
  {
   "cell_type": "code",
   "execution_count": null,
   "metadata": {},
   "outputs": [],
   "source": [
    "chaine = 'Hugo Martin est charmant'\n",
    "\n"
   ]
  },
  {
   "cell_type": "markdown",
   "metadata": {},
   "source": [
    "(Autopsie d'un programme) Étudiez ce que fait la fonction suivante :"
   ]
  },
  {
   "cell_type": "code",
   "execution_count": null,
   "metadata": {},
   "outputs": [],
   "source": [
    "def f(a,b):\n",
    "    while b != 0:\n",
    "        a,b = b,a%b\n",
    "    return a"
   ]
  },
  {
   "cell_type": "markdown",
   "metadata": {},
   "source": [
    "Testez ce que deviennent les variables dans ce programme en introduisant des commandes `print`."
   ]
  },
  {
   "cell_type": "code",
   "execution_count": null,
   "metadata": {},
   "outputs": [],
   "source": []
  },
  {
   "cell_type": "markdown",
   "metadata": {},
   "source": [
    "Écrire une fonction `estPremier` qui prend en argument un entier $n$ et retourne `True` ou `False` suivant  que $n$ est premier ou non."
   ]
  },
  {
   "cell_type": "code",
   "execution_count": null,
   "metadata": {
    "collapsed": true,
    "jupyter": {
     "outputs_hidden": true
    }
   },
   "outputs": [],
   "source": []
  },
  {
   "cell_type": "markdown",
   "metadata": {},
   "source": [
    "`/!\\`La méthode de recherche par dichotomie permet d'encadrer un nombre $n$ par deux valeurs. On commence à chercher dans un intervalle [A,B], que l'on coupe en deux. Si $n$ se situe dans la moitié gauche de cet intervalle, on réduit l'intervale de recherche à cette moitié, c'est à dire qu'on abaisse la borne B à la moitié de l'intervalle. Sinon, on cherche dans la partie droite et on augmente A à la moitié de l'intervalle. On répète l'opération jusqu'à obtenir un encadrement dont l'étendue nous conviennent. Écrire une fonction `dichotomie` qui prend en arguments un nombre $n$ à encadrer, *inf* la borne inférieure de l'intervalle de recherche, *sup* la borne inférieure et $p$ la taille de l'encadrement voulue. La fonction doit renvoyer les deux valeurs d'encadrement de $n$ d'écart $p$, ou bien **False** si $n$ n'est pas dans [inf,sup]"
   ]
  },
  {
   "cell_type": "code",
   "execution_count": null,
   "metadata": {},
   "outputs": [],
   "source": [
    "def dichotomie(n,inf,sup,p):\n",
    "    \n",
    "    \n",
    "    "
   ]
  },
  {
   "cell_type": "markdown",
   "metadata": {},
   "source": [
    "# Imbrication de boucles"
   ]
  },
  {
   "cell_type": "markdown",
   "metadata": {},
   "source": [
    "Il est parfois nécessaire d'emboiter des boucles, c'est à dire de mettre une boucle dans le corps d'une autre boucle. \n",
    "\n",
    "Il est même possible d'utiliser les éléments définis dans la boucle la plus haute , comme l'itérateur ou d'autre variable, dans la boucle imbriquée.\n",
    "\n",
    "Pas vraiment de nouvelle notion ici, seulement quelques exemples."
   ]
  },
  {
   "cell_type": "code",
   "execution_count": 22,
   "metadata": {},
   "outputs": [
    {
     "name": "stdout",
     "output_type": "stream",
     "text": [
      "123\n",
      "\n",
      "456\n",
      "\n",
      "789\n",
      "\n"
     ]
    }
   ],
   "source": [
    "#Afficher les élements d'une matrice\n",
    "mat = [[1,2,3],[4,5,6],[7,8,9]]\n",
    "\n",
    "for ligne in mat:\n",
    "    for element in ligne:\n",
    "        print(element,end='') #le end='' sert à empecher le retour à la ligne automatique de la fonction print\n",
    "    print('\\n')"
   ]
  },
  {
   "cell_type": "code",
   "execution_count": 25,
   "metadata": {},
   "outputs": [
    {
     "name": "stdout",
     "output_type": "stream",
     "text": [
      "['faire', 'défaire', 'refaire']\n",
      "['voir', 'dévoir', 'revoir']\n",
      "['jouer', 'déjouer', 'rejouer']\n",
      "['tendre', 'détendre', 'retendre']\n"
     ]
    }
   ],
   "source": [
    "#Creer des mots composés de préfixe et de radicaux pris dans des listes. Stocker ces mots dans des listes distinctes elles.\n",
    "prefixes = ['','dé','re']\n",
    "radicaux = ['faire','voir','jouer','tendre']\n",
    "liste_mots_par_radicaux = []\n",
    "\n",
    "for rad in radicaux:\n",
    "    liste = [] #on crée notre liste spécifique au radical\n",
    "    for pre in prefixes:\n",
    "        mot = pre + rad\n",
    "        liste.append(mot)\n",
    "    liste_mots_par_radicaux.append(liste)\n",
    "    liste = [] #on vide notre liste de travail pour pouvoir la remplir pour le prochain radical.\n",
    "    \n",
    "for liste in liste_mots_par_radicaux:\n",
    "    print(liste)"
   ]
  },
  {
   "cell_type": "markdown",
   "metadata": {},
   "source": [
    "### Exercices sur les boucles imbriquées"
   ]
  },
  {
   "cell_type": "markdown",
   "metadata": {},
   "source": [
    "Écrire deux fonctions prenant en argument un entier $n$ et retournant respectivement $\\sum_{i=0}^n \\sum_{j=0}^n (i^2+j^3)\\,$ et $\\sum_{j=0}^n \\sum_{i=0}^n (i^2+j^3)\\,$. En quoi diffèrent ces écritures ? Comparez les résultats obtenus par ces deux fonctions et expliquez."
   ]
  },
  {
   "cell_type": "code",
   "execution_count": null,
   "metadata": {},
   "outputs": [],
   "source": []
  },
  {
   "cell_type": "markdown",
   "metadata": {},
   "source": [
    "Écrire un script qui, pour tout entier i de 0 à n, affiche tous les résultats des produits i\\*j, avec $0\\leq j < i$."
   ]
  },
  {
   "cell_type": "code",
   "execution_count": null,
   "metadata": {},
   "outputs": [],
   "source": []
  },
  {
   "cell_type": "markdown",
   "metadata": {},
   "source": [
    "En utilisant la fonction `amicaux` (définie dans les exercices sur les boucles FOR), écrire une fonction qui permet de déterminer tous les couples de nombres amicaux inférieurs à $n$."
   ]
  },
  {
   "cell_type": "code",
   "execution_count": null,
   "metadata": {},
   "outputs": [],
   "source": []
  },
  {
   "cell_type": "markdown",
   "metadata": {},
   "source": [
    "`/!\\` Un algorithme de tri sert, comme son nom l'indique, à trier une liste de nombre (généralement par ordre croissant). Le *tri par insertion* est un algorithme qui prend, partant de la gauche de la liste, chaque élément de la liste, et le compare aux éléments à sa gauche (qui ont déjà été triés donc) pour savoir où il doit être placé. Le gif à l'adresse https://upload.wikimedia.org/wikipedia/commons/0/0f/Insertion-sort-example-300px.gif?uselang=fr illustre cette méthode. Réaliser un script de tri par insertion pour trier la liste."
   ]
  },
  {
   "cell_type": "code",
   "execution_count": null,
   "metadata": {},
   "outputs": [],
   "source": []
  }
 ],
 "metadata": {
  "kernelspec": {
   "display_name": "Python 3",
   "language": "python",
   "name": "python3"
  },
  "language_info": {
   "codemirror_mode": {
    "name": "ipython",
    "version": 3
   },
   "file_extension": ".py",
   "mimetype": "text/x-python",
   "name": "python",
   "nbconvert_exporter": "python",
   "pygments_lexer": "ipython3",
   "version": "3.7.6"
  }
 },
 "nbformat": 4,
 "nbformat_minor": 4
}
